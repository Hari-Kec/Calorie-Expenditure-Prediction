{
  "nbformat": 4,
  "nbformat_minor": 0,
  "metadata": {
    "colab": {
      "provenance": []
    },
    "kernelspec": {
      "name": "python3",
      "display_name": "Python 3"
    },
    "language_info": {
      "name": "python"
    }
  },
  "cells": [
    {
      "cell_type": "code",
      "execution_count": 1,
      "metadata": {
        "colab": {
          "base_uri": "https://localhost:8080/"
        },
        "id": "usO6X6griEHX",
        "outputId": "72751dfb-df42-4eaa-f9b6-abb58d9e3e00"
      },
      "outputs": [
        {
          "output_type": "stream",
          "name": "stdout",
          "text": [
            "Requirement already satisfied: xgboost in /usr/local/lib/python3.11/dist-packages (2.1.4)\n",
            "Requirement already satisfied: numpy in /usr/local/lib/python3.11/dist-packages (from xgboost) (2.0.2)\n",
            "Requirement already satisfied: nvidia-nccl-cu12 in /usr/local/lib/python3.11/dist-packages (from xgboost) (2.21.5)\n",
            "Requirement already satisfied: scipy in /usr/local/lib/python3.11/dist-packages (from xgboost) (1.15.3)\n"
          ]
        }
      ],
      "source": [
        "# Install any required libraries that are not already available in Colab\n",
        "!pip install xgboost"
      ]
    },
    {
      "cell_type": "code",
      "source": [
        "import pandas as pd\n",
        "import numpy as np\n",
        "from sklearn.model_selection import train_test_split\n",
        "from xgboost import XGBRegressor\n",
        "from sklearn.metrics import mean_squared_log_error\n",
        "from math import sqrt\n",
        "\n",
        "# Load data\n",
        "train = pd.read_csv(\"/content/drive/MyDrive/train.csv\")\n",
        "test = pd.read_csv(\"/content/drive/MyDrive/test.csv\")\n",
        "\n",
        "# Encode 'Sex'\n",
        "train['Sex'] = train['Sex'].map({'male': 0, 'female': 1})\n",
        "test['Sex'] = test['Sex'].map({'male': 0, 'female': 1})\n",
        "\n",
        "# Features and target\n",
        "features = ['Sex', 'Age', 'Height', 'Weight', 'Duration', 'Heart_Rate', 'Body_Temp']\n",
        "target = 'Calories'\n",
        "\n",
        "X = train[features]\n",
        "y = train[target]\n",
        "\n",
        "# Train/Val split\n",
        "X_train, X_val, y_train, y_val = train_test_split(X, y, test_size=0.2, random_state=42)\n",
        "\n",
        "# Train model\n",
        "model = XGBRegressor(n_estimators=200, learning_rate=0.05, max_depth=5, random_state=42)\n",
        "model.fit(X_train, y_train)\n",
        "\n",
        "# Predict on validation\n",
        "val_preds = model.predict(X_val)\n",
        "\n",
        "# Clip predictions to ensure positivity\n",
        "val_preds = np.clip(val_preds, a_min=1e-5, a_max=None)\n",
        "\n",
        "# Evaluate using RMSLE safely\n",
        "epsilon = 1e-5\n",
        "rmsle = sqrt(mean_squared_log_error(y_val + epsilon, val_preds + epsilon))\n",
        "print(f\"Validation RMSLE: {rmsle:.4f}\")\n",
        "\n",
        "# Predict on test set\n",
        "test_preds = model.predict(test[features])\n",
        "test_preds = np.clip(test_preds, a_min=1e-5, a_max=None)  # Clip again\n",
        "\n",
        "# Create submission file\n",
        "submission = pd.DataFrame({\n",
        "    'id': test['id'],\n",
        "    'Calories': test_preds\n",
        "})\n",
        "submission.to_csv(\"submission1.csv\", index=False)\n",
        "\n",
        "print(\"✅ Submission file created.\")"
      ],
      "metadata": {
        "colab": {
          "base_uri": "https://localhost:8080/"
        },
        "id": "QV4fgp3am5JO",
        "outputId": "eb38e295-6d7a-4080-8759-323e2f4a56ec"
      },
      "execution_count": 18,
      "outputs": [
        {
          "output_type": "stream",
          "name": "stdout",
          "text": [
            "Validation RMSLE: 0.0812\n",
            "✅ Submission file created.\n"
          ]
        }
      ]
    },
    {
      "cell_type": "code",
      "source": [
        "submission.head(-5)"
      ],
      "metadata": {
        "colab": {
          "base_uri": "https://localhost:8080/",
          "height": 423
        },
        "id": "ieuE6zQdnKCd",
        "outputId": "239fd07f-c5bc-4ece-861d-e9089890602b"
      },
      "execution_count": 16,
      "outputs": [
        {
          "output_type": "execute_result",
          "data": {
            "text/plain": [
              "            id    Calories\n",
              "0       750000   26.941383\n",
              "1       750001  108.466202\n",
              "2       750002   86.273491\n",
              "3       750003  127.535469\n",
              "4       750004   73.953224\n",
              "...        ...         ...\n",
              "249990  999990    5.968144\n",
              "249991  999991  197.575272\n",
              "249992  999992   62.536209\n",
              "249993  999993   40.842762\n",
              "249994  999994  122.438622\n",
              "\n",
              "[249995 rows x 2 columns]"
            ],
            "text/html": [
              "\n",
              "  <div id=\"df-8d36e67f-1ff4-4adb-b97c-bac21cb464fe\" class=\"colab-df-container\">\n",
              "    <div>\n",
              "<style scoped>\n",
              "    .dataframe tbody tr th:only-of-type {\n",
              "        vertical-align: middle;\n",
              "    }\n",
              "\n",
              "    .dataframe tbody tr th {\n",
              "        vertical-align: top;\n",
              "    }\n",
              "\n",
              "    .dataframe thead th {\n",
              "        text-align: right;\n",
              "    }\n",
              "</style>\n",
              "<table border=\"1\" class=\"dataframe\">\n",
              "  <thead>\n",
              "    <tr style=\"text-align: right;\">\n",
              "      <th></th>\n",
              "      <th>id</th>\n",
              "      <th>Calories</th>\n",
              "    </tr>\n",
              "  </thead>\n",
              "  <tbody>\n",
              "    <tr>\n",
              "      <th>0</th>\n",
              "      <td>750000</td>\n",
              "      <td>26.941383</td>\n",
              "    </tr>\n",
              "    <tr>\n",
              "      <th>1</th>\n",
              "      <td>750001</td>\n",
              "      <td>108.466202</td>\n",
              "    </tr>\n",
              "    <tr>\n",
              "      <th>2</th>\n",
              "      <td>750002</td>\n",
              "      <td>86.273491</td>\n",
              "    </tr>\n",
              "    <tr>\n",
              "      <th>3</th>\n",
              "      <td>750003</td>\n",
              "      <td>127.535469</td>\n",
              "    </tr>\n",
              "    <tr>\n",
              "      <th>4</th>\n",
              "      <td>750004</td>\n",
              "      <td>73.953224</td>\n",
              "    </tr>\n",
              "    <tr>\n",
              "      <th>...</th>\n",
              "      <td>...</td>\n",
              "      <td>...</td>\n",
              "    </tr>\n",
              "    <tr>\n",
              "      <th>249990</th>\n",
              "      <td>999990</td>\n",
              "      <td>5.968144</td>\n",
              "    </tr>\n",
              "    <tr>\n",
              "      <th>249991</th>\n",
              "      <td>999991</td>\n",
              "      <td>197.575272</td>\n",
              "    </tr>\n",
              "    <tr>\n",
              "      <th>249992</th>\n",
              "      <td>999992</td>\n",
              "      <td>62.536209</td>\n",
              "    </tr>\n",
              "    <tr>\n",
              "      <th>249993</th>\n",
              "      <td>999993</td>\n",
              "      <td>40.842762</td>\n",
              "    </tr>\n",
              "    <tr>\n",
              "      <th>249994</th>\n",
              "      <td>999994</td>\n",
              "      <td>122.438622</td>\n",
              "    </tr>\n",
              "  </tbody>\n",
              "</table>\n",
              "<p>249995 rows × 2 columns</p>\n",
              "</div>\n",
              "    <div class=\"colab-df-buttons\">\n",
              "\n",
              "  <div class=\"colab-df-container\">\n",
              "    <button class=\"colab-df-convert\" onclick=\"convertToInteractive('df-8d36e67f-1ff4-4adb-b97c-bac21cb464fe')\"\n",
              "            title=\"Convert this dataframe to an interactive table.\"\n",
              "            style=\"display:none;\">\n",
              "\n",
              "  <svg xmlns=\"http://www.w3.org/2000/svg\" height=\"24px\" viewBox=\"0 -960 960 960\">\n",
              "    <path d=\"M120-120v-720h720v720H120Zm60-500h600v-160H180v160Zm220 220h160v-160H400v160Zm0 220h160v-160H400v160ZM180-400h160v-160H180v160Zm440 0h160v-160H620v160ZM180-180h160v-160H180v160Zm440 0h160v-160H620v160Z\"/>\n",
              "  </svg>\n",
              "    </button>\n",
              "\n",
              "  <style>\n",
              "    .colab-df-container {\n",
              "      display:flex;\n",
              "      gap: 12px;\n",
              "    }\n",
              "\n",
              "    .colab-df-convert {\n",
              "      background-color: #E8F0FE;\n",
              "      border: none;\n",
              "      border-radius: 50%;\n",
              "      cursor: pointer;\n",
              "      display: none;\n",
              "      fill: #1967D2;\n",
              "      height: 32px;\n",
              "      padding: 0 0 0 0;\n",
              "      width: 32px;\n",
              "    }\n",
              "\n",
              "    .colab-df-convert:hover {\n",
              "      background-color: #E2EBFA;\n",
              "      box-shadow: 0px 1px 2px rgba(60, 64, 67, 0.3), 0px 1px 3px 1px rgba(60, 64, 67, 0.15);\n",
              "      fill: #174EA6;\n",
              "    }\n",
              "\n",
              "    .colab-df-buttons div {\n",
              "      margin-bottom: 4px;\n",
              "    }\n",
              "\n",
              "    [theme=dark] .colab-df-convert {\n",
              "      background-color: #3B4455;\n",
              "      fill: #D2E3FC;\n",
              "    }\n",
              "\n",
              "    [theme=dark] .colab-df-convert:hover {\n",
              "      background-color: #434B5C;\n",
              "      box-shadow: 0px 1px 3px 1px rgba(0, 0, 0, 0.15);\n",
              "      filter: drop-shadow(0px 1px 2px rgba(0, 0, 0, 0.3));\n",
              "      fill: #FFFFFF;\n",
              "    }\n",
              "  </style>\n",
              "\n",
              "    <script>\n",
              "      const buttonEl =\n",
              "        document.querySelector('#df-8d36e67f-1ff4-4adb-b97c-bac21cb464fe button.colab-df-convert');\n",
              "      buttonEl.style.display =\n",
              "        google.colab.kernel.accessAllowed ? 'block' : 'none';\n",
              "\n",
              "      async function convertToInteractive(key) {\n",
              "        const element = document.querySelector('#df-8d36e67f-1ff4-4adb-b97c-bac21cb464fe');\n",
              "        const dataTable =\n",
              "          await google.colab.kernel.invokeFunction('convertToInteractive',\n",
              "                                                    [key], {});\n",
              "        if (!dataTable) return;\n",
              "\n",
              "        const docLinkHtml = 'Like what you see? Visit the ' +\n",
              "          '<a target=\"_blank\" href=https://colab.research.google.com/notebooks/data_table.ipynb>data table notebook</a>'\n",
              "          + ' to learn more about interactive tables.';\n",
              "        element.innerHTML = '';\n",
              "        dataTable['output_type'] = 'display_data';\n",
              "        await google.colab.output.renderOutput(dataTable, element);\n",
              "        const docLink = document.createElement('div');\n",
              "        docLink.innerHTML = docLinkHtml;\n",
              "        element.appendChild(docLink);\n",
              "      }\n",
              "    </script>\n",
              "  </div>\n",
              "\n",
              "\n",
              "<div id=\"df-4200f126-70de-4e82-93c0-911ad413c2ee\">\n",
              "  <button class=\"colab-df-quickchart\" onclick=\"quickchart('df-4200f126-70de-4e82-93c0-911ad413c2ee')\"\n",
              "            title=\"Suggest charts\"\n",
              "            style=\"display:none;\">\n",
              "\n",
              "<svg xmlns=\"http://www.w3.org/2000/svg\" height=\"24px\"viewBox=\"0 0 24 24\"\n",
              "     width=\"24px\">\n",
              "    <g>\n",
              "        <path d=\"M19 3H5c-1.1 0-2 .9-2 2v14c0 1.1.9 2 2 2h14c1.1 0 2-.9 2-2V5c0-1.1-.9-2-2-2zM9 17H7v-7h2v7zm4 0h-2V7h2v10zm4 0h-2v-4h2v4z\"/>\n",
              "    </g>\n",
              "</svg>\n",
              "  </button>\n",
              "\n",
              "<style>\n",
              "  .colab-df-quickchart {\n",
              "      --bg-color: #E8F0FE;\n",
              "      --fill-color: #1967D2;\n",
              "      --hover-bg-color: #E2EBFA;\n",
              "      --hover-fill-color: #174EA6;\n",
              "      --disabled-fill-color: #AAA;\n",
              "      --disabled-bg-color: #DDD;\n",
              "  }\n",
              "\n",
              "  [theme=dark] .colab-df-quickchart {\n",
              "      --bg-color: #3B4455;\n",
              "      --fill-color: #D2E3FC;\n",
              "      --hover-bg-color: #434B5C;\n",
              "      --hover-fill-color: #FFFFFF;\n",
              "      --disabled-bg-color: #3B4455;\n",
              "      --disabled-fill-color: #666;\n",
              "  }\n",
              "\n",
              "  .colab-df-quickchart {\n",
              "    background-color: var(--bg-color);\n",
              "    border: none;\n",
              "    border-radius: 50%;\n",
              "    cursor: pointer;\n",
              "    display: none;\n",
              "    fill: var(--fill-color);\n",
              "    height: 32px;\n",
              "    padding: 0;\n",
              "    width: 32px;\n",
              "  }\n",
              "\n",
              "  .colab-df-quickchart:hover {\n",
              "    background-color: var(--hover-bg-color);\n",
              "    box-shadow: 0 1px 2px rgba(60, 64, 67, 0.3), 0 1px 3px 1px rgba(60, 64, 67, 0.15);\n",
              "    fill: var(--button-hover-fill-color);\n",
              "  }\n",
              "\n",
              "  .colab-df-quickchart-complete:disabled,\n",
              "  .colab-df-quickchart-complete:disabled:hover {\n",
              "    background-color: var(--disabled-bg-color);\n",
              "    fill: var(--disabled-fill-color);\n",
              "    box-shadow: none;\n",
              "  }\n",
              "\n",
              "  .colab-df-spinner {\n",
              "    border: 2px solid var(--fill-color);\n",
              "    border-color: transparent;\n",
              "    border-bottom-color: var(--fill-color);\n",
              "    animation:\n",
              "      spin 1s steps(1) infinite;\n",
              "  }\n",
              "\n",
              "  @keyframes spin {\n",
              "    0% {\n",
              "      border-color: transparent;\n",
              "      border-bottom-color: var(--fill-color);\n",
              "      border-left-color: var(--fill-color);\n",
              "    }\n",
              "    20% {\n",
              "      border-color: transparent;\n",
              "      border-left-color: var(--fill-color);\n",
              "      border-top-color: var(--fill-color);\n",
              "    }\n",
              "    30% {\n",
              "      border-color: transparent;\n",
              "      border-left-color: var(--fill-color);\n",
              "      border-top-color: var(--fill-color);\n",
              "      border-right-color: var(--fill-color);\n",
              "    }\n",
              "    40% {\n",
              "      border-color: transparent;\n",
              "      border-right-color: var(--fill-color);\n",
              "      border-top-color: var(--fill-color);\n",
              "    }\n",
              "    60% {\n",
              "      border-color: transparent;\n",
              "      border-right-color: var(--fill-color);\n",
              "    }\n",
              "    80% {\n",
              "      border-color: transparent;\n",
              "      border-right-color: var(--fill-color);\n",
              "      border-bottom-color: var(--fill-color);\n",
              "    }\n",
              "    90% {\n",
              "      border-color: transparent;\n",
              "      border-bottom-color: var(--fill-color);\n",
              "    }\n",
              "  }\n",
              "</style>\n",
              "\n",
              "  <script>\n",
              "    async function quickchart(key) {\n",
              "      const quickchartButtonEl =\n",
              "        document.querySelector('#' + key + ' button');\n",
              "      quickchartButtonEl.disabled = true;  // To prevent multiple clicks.\n",
              "      quickchartButtonEl.classList.add('colab-df-spinner');\n",
              "      try {\n",
              "        const charts = await google.colab.kernel.invokeFunction(\n",
              "            'suggestCharts', [key], {});\n",
              "      } catch (error) {\n",
              "        console.error('Error during call to suggestCharts:', error);\n",
              "      }\n",
              "      quickchartButtonEl.classList.remove('colab-df-spinner');\n",
              "      quickchartButtonEl.classList.add('colab-df-quickchart-complete');\n",
              "    }\n",
              "    (() => {\n",
              "      let quickchartButtonEl =\n",
              "        document.querySelector('#df-4200f126-70de-4e82-93c0-911ad413c2ee button');\n",
              "      quickchartButtonEl.style.display =\n",
              "        google.colab.kernel.accessAllowed ? 'block' : 'none';\n",
              "    })();\n",
              "  </script>\n",
              "</div>\n",
              "\n",
              "    </div>\n",
              "  </div>\n"
            ],
            "application/vnd.google.colaboratory.intrinsic+json": {
              "type": "dataframe",
              "variable_name": "submission"
            }
          },
          "metadata": {},
          "execution_count": 16
        }
      ]
    },
    {
      "cell_type": "code",
      "source": [
        "# Step 1: Install required libraries\n",
        "!pip install catboost lightgbm --quiet"
      ],
      "metadata": {
        "colab": {
          "base_uri": "https://localhost:8080/"
        },
        "id": "eVRtGGulogPL",
        "outputId": "1c936eae-33b4-4aec-b34c-875e040add3a"
      },
      "execution_count": 19,
      "outputs": [
        {
          "output_type": "stream",
          "name": "stdout",
          "text": [
            "\u001b[2K   \u001b[90m━━━━━━━━━━━━━━━━━━━━━━━━━━━━━━━━━━━━━━━━\u001b[0m \u001b[32m99.2/99.2 MB\u001b[0m \u001b[31m5.7 MB/s\u001b[0m eta \u001b[36m0:00:00\u001b[0m\n",
            "\u001b[?25h"
          ]
        }
      ]
    },
    {
      "cell_type": "code",
      "source": [
        "# Step 2: Import libraries\n",
        "import pandas as pd\n",
        "import numpy as np\n",
        "from sklearn.model_selection import train_test_split\n",
        "from catboost import CatBoostRegressor\n",
        "from lightgbm import LGBMRegressor\n",
        "from sklearn.metrics import mean_squared_log_error\n",
        "from math import sqrt\n",
        "import warnings\n",
        "warnings.filterwarnings('ignore')"
      ],
      "metadata": {
        "id": "xY6ZzyzKoilz"
      },
      "execution_count": 20,
      "outputs": []
    },
    {
      "cell_type": "code",
      "source": [
        "# Step 3: Load data (upload your train.csv and test.csv in Colab)\n",
        "\n",
        "\n",
        "train = pd.read_csv(\"/content/drive/MyDrive/train.csv\")\n",
        "test = pd.read_csv(\"/content/drive/MyDrive/test.csv\")"
      ],
      "metadata": {
        "id": "o-zSgYl7okn_"
      },
      "execution_count": 22,
      "outputs": []
    },
    {
      "cell_type": "code",
      "source": [
        "# Step 4: Preprocessing and Feature Engineering\n",
        "def preprocess(df):\n",
        "    # Encode Sex\n",
        "    df['Sex'] = df['Sex'].map({'male': 0, 'female': 1})\n",
        "\n",
        "    # Add engineered features\n",
        "    df['BMI'] = df['Weight'] / ((df['Height'] / 100) ** 2)\n",
        "    df['MassTime'] = df['Weight'] * df['Duration']\n",
        "    df['HRxDur'] = df['Heart_Rate'] * df['Duration']\n",
        "    df['TempDiff'] = df['Body_Temp'] - 37  # Deviation from normal body temp\n",
        "\n",
        "    return df\n",
        "\n",
        "train = preprocess(train)\n",
        "test = preprocess(test)\n",
        "\n",
        "# Features and Target\n",
        "features = ['Sex', 'Age', 'Height', 'Weight', 'Duration', 'Heart_Rate', 'Body_Temp',\n",
        "            'BMI', 'MassTime', 'HRxDur', 'TempDiff']\n",
        "target = 'Calories'\n",
        "\n",
        "X = train[features]\n",
        "y = np.log1p(train[target])  # Log transform target\n",
        "\n",
        "# Train/Validation Split\n",
        "X_train, X_val, y_train, y_val = train_test_split(X, y, test_size=0.2, random_state=42)"
      ],
      "metadata": {
        "id": "A4LtvAG-oxAG"
      },
      "execution_count": 23,
      "outputs": []
    },
    {
      "cell_type": "code",
      "source": [
        "# Step 5: Train CatBoost Model\n",
        "cat_model = CatBoostRegressor(\n",
        "    iterations=500,\n",
        "    learning_rate=0.05,\n",
        "    depth=6,\n",
        "    loss_function='RMSE',\n",
        "    verbose=0\n",
        ")\n",
        "cat_model.fit(X_train, y_train)\n",
        "\n",
        "# Predict on validation\n",
        "cat_val_preds = np.expm1(cat_model.predict(X_val))\n",
        "cat_test_preds = np.expm1(cat_model.predict(test[features]))"
      ],
      "metadata": {
        "id": "RnWW66Vpoy_F"
      },
      "execution_count": 24,
      "outputs": []
    },
    {
      "cell_type": "code",
      "source": [
        "# Step 6: Train LightGBM Model\n",
        "lgbm_model = LGBMRegressor(\n",
        "    n_estimators=500,\n",
        "    learning_rate=0.05,\n",
        "    num_leaves=31,\n",
        "    max_depth=7,\n",
        "    random_state=42\n",
        ")\n",
        "lgbm_model.fit(X_train, y_train)\n",
        "\n",
        "# Predict on validation\n",
        "lgbm_val_preds = np.expm1(lgbm_model.predict(X_val))\n",
        "lgbm_test_preds = np.expm1(lgbm_model.predict(test[features]))"
      ],
      "metadata": {
        "colab": {
          "base_uri": "https://localhost:8080/"
        },
        "id": "MXw8VX4do1Ph",
        "outputId": "f10b9589-6a48-42e2-cf31-73ce35d07fae"
      },
      "execution_count": 25,
      "outputs": [
        {
          "output_type": "stream",
          "name": "stdout",
          "text": [
            "[LightGBM] [Info] Auto-choosing row-wise multi-threading, the overhead of testing was 0.022094 seconds.\n",
            "You can set `force_row_wise=true` to remove the overhead.\n",
            "And if memory is not enough, you can set `force_col_wise=true`.\n",
            "[LightGBM] [Info] Total Bins 1171\n",
            "[LightGBM] [Info] Number of data points in the train set: 600000, number of used features: 11\n",
            "[LightGBM] [Info] Start training from score 4.141163\n",
            "[LightGBM] [Warning] No further splits with positive gain, best gain: -inf\n",
            "[LightGBM] [Warning] No further splits with positive gain, best gain: -inf\n"
          ]
        }
      ]
    },
    {
      "cell_type": "code",
      "source": [
        "# Step 7: Evaluate Individual Models\n",
        "def rmsle(y_true, y_pred):\n",
        "    return sqrt(mean_squared_log_error(y_true, np.clip(y_pred, 1e-5, None)))\n",
        "\n",
        "print(f\"CatBoost Val RMSLE: {rmsle(train.loc[y_val.index, 'Calories'], cat_val_preds):.5f}\")\n",
        "print(f\"LightGBM Val RMSLE: {rmsle(train.loc[y_val.index, 'Calories'], lgbm_val_preds):.5f}\")\n",
        "\n",
        "# Step 8: Ensemble (Average Predictions)\n",
        "ensemble_val_preds = (cat_val_preds + lgbm_val_preds) / 2\n",
        "ensemble_test_preds = (cat_test_preds + lgbm_test_preds) / 2\n",
        "\n",
        "print(f\"Ensemble Val RMSLE: {rmsle(train.loc[y_val.index, 'Calories'], ensemble_val_preds):.5f}\")"
      ],
      "metadata": {
        "colab": {
          "base_uri": "https://localhost:8080/"
        },
        "id": "BnpmAXVwo3Q2",
        "outputId": "5e1112d7-4b87-4fc2-ebb0-f608a2197039"
      },
      "execution_count": 26,
      "outputs": [
        {
          "output_type": "stream",
          "name": "stdout",
          "text": [
            "CatBoost Val RMSLE: 0.06043\n",
            "LightGBM Val RMSLE: 0.06019\n",
            "Ensemble Val RMSLE: 0.05967\n"
          ]
        }
      ]
    },
    {
      "cell_type": "code",
      "source": [
        "# Step 9: Create Submission File\n",
        "submission = pd.DataFrame({\n",
        "    'id': test['id'],\n",
        "    'Calories': np.clip(ensemble_test_preds, 0.1, None)  # Clip low values\n",
        "})\n",
        "\n",
        "submission.to_csv(\"submission2.csv\", index=False)\n",
        "\n",
        "print(\"\\n✅ Final submission file created.\")"
      ],
      "metadata": {
        "colab": {
          "base_uri": "https://localhost:8080/"
        },
        "id": "9djB4iMPo5WD",
        "outputId": "32f28f9c-3171-4b59-cdf5-adc7358a80be"
      },
      "execution_count": 27,
      "outputs": [
        {
          "output_type": "stream",
          "name": "stdout",
          "text": [
            "\n",
            "✅ Final submission file created.\n"
          ]
        }
      ]
    },
    {
      "cell_type": "markdown",
      "source": [
        "SUBMISSION - 3"
      ],
      "metadata": {
        "id": "8ngXcJMlp3ez"
      }
    },
    {
      "cell_type": "code",
      "source": [
        "# Step 1: Install required libraries\n",
        "!pip install catboost lightgbm xgboost --quiet"
      ],
      "metadata": {
        "id": "rBwFSx-7p6SA"
      },
      "execution_count": 28,
      "outputs": []
    },
    {
      "cell_type": "code",
      "source": [
        "# Step 2: Import libraries\n",
        "import pandas as pd\n",
        "import numpy as np\n",
        "from sklearn.model_selection import KFold\n",
        "from catboost import CatBoostRegressor\n",
        "from lightgbm import LGBMRegressor\n",
        "from xgboost import XGBRegressor\n",
        "from sklearn.metrics import mean_squared_log_error\n",
        "from math import sqrt\n",
        "import warnings\n",
        "warnings.filterwarnings('ignore')"
      ],
      "metadata": {
        "id": "cgjCTeYCp8Bx"
      },
      "execution_count": 29,
      "outputs": []
    },
    {
      "cell_type": "code",
      "source": [
        "\n",
        "train = pd.read_csv(\"/content/drive/MyDrive/train.csv\")\n",
        "test = pd.read_csv(\"/content/drive/MyDrive/test.csv\")"
      ],
      "metadata": {
        "id": "atpKO2TgqAAp"
      },
      "execution_count": 30,
      "outputs": []
    },
    {
      "cell_type": "code",
      "source": [
        "print(\"Train shape:\", train.shape)\n",
        "print(\"Test shape:\", test.shape)"
      ],
      "metadata": {
        "colab": {
          "base_uri": "https://localhost:8080/"
        },
        "id": "01zxWgqmqCoN",
        "outputId": "053751fd-b80f-48a8-de71-4d131084b7ad"
      },
      "execution_count": 31,
      "outputs": [
        {
          "output_type": "stream",
          "name": "stdout",
          "text": [
            "Train shape: (750000, 9)\n",
            "Test shape: (250000, 8)\n"
          ]
        }
      ]
    },
    {
      "cell_type": "code",
      "source": [
        "# Step 4: Feature Engineering\n",
        "def preprocess(df):\n",
        "    df['Sex'] = df['Sex'].map({'male': 0, 'female': 1})\n",
        "\n",
        "    # Derived Features\n",
        "    df['BMI'] = df['Weight'] / ((df['Height'] / 100) ** 2)\n",
        "    df['MassTime'] = df['Weight'] * df['Duration']\n",
        "    df['HRxDur'] = df['Heart_Rate'] * df['Duration']\n",
        "    df['TempDiff'] = df['Body_Temp'] - 37\n",
        "    df['HR_BMI_Interaction'] = df['Heart_Rate'] * df['BMI']\n",
        "    df['AgeGroup'] = pd.cut(df['Age'], bins=[0, 30, 50, 70, 100], labels=[0,1,2,3]).astype(int)\n",
        "\n",
        "    return df\n",
        "\n",
        "train = preprocess(train)\n",
        "test = preprocess(test)\n",
        "\n",
        "features = ['Sex', 'Age', 'Height', 'Weight', 'Duration', 'Heart_Rate', 'Body_Temp',\n",
        "            'BMI', 'MassTime', 'HRxDur', 'TempDiff', 'HR_BMI_Interaction', 'AgeGroup']\n",
        "target = 'Calories'\n",
        "\n",
        "X = train[features]\n",
        "y = np.log1p(train[target].values)\n",
        "X_test = test[features]\n",
        "\n",
        "print(\"Features used:\", features)"
      ],
      "metadata": {
        "colab": {
          "base_uri": "https://localhost:8080/"
        },
        "id": "fmQ8eW9eqE9N",
        "outputId": "81a9ad83-e77b-4f18-ede4-4c89160dace1"
      },
      "execution_count": 32,
      "outputs": [
        {
          "output_type": "stream",
          "name": "stdout",
          "text": [
            "Features used: ['Sex', 'Age', 'Height', 'Weight', 'Duration', 'Heart_Rate', 'Body_Temp', 'BMI', 'MassTime', 'HRxDur', 'TempDiff', 'HR_BMI_Interaction', 'AgeGroup']\n"
          ]
        }
      ]
    },
    {
      "cell_type": "code",
      "source": [
        "# Step 5: Define RMSLE metric\n",
        "def rmsle(y_true, y_pred):\n",
        "    return sqrt(mean_squared_log_error(y_true, np.clip(y_pred, 1e-5, None)))"
      ],
      "metadata": {
        "id": "uQH9tx0IqJR1"
      },
      "execution_count": 33,
      "outputs": []
    },
    {
      "cell_type": "code",
      "source": [
        "# Step 6: Initialize models with better params\n",
        "cat_params = {\n",
        "    'iterations': 600,\n",
        "    'learning_rate': 0.03,\n",
        "    'depth': 6,\n",
        "    'l2_leaf_reg': 3,\n",
        "    'loss_function': 'RMSE',\n",
        "    'verbose': 0\n",
        "}\n",
        "\n",
        "lgbm_params = {\n",
        "    'n_estimators': 600,\n",
        "    'learning_rate': 0.03,\n",
        "    'num_leaves': 40,\n",
        "    'max_depth': 7,\n",
        "    'colsample_bytree': 0.8,\n",
        "    'subsample': 0.8,\n",
        "    'random_state': 42\n",
        "}\n",
        "\n",
        "xgb_params = {\n",
        "    'n_estimators': 600,\n",
        "    'learning_rate': 0.03,\n",
        "    'max_depth': 6,\n",
        "    'colsample_bytree': 0.8,\n",
        "    'subsample': 0.8,\n",
        "    'eval_metric': 'rmse',\n",
        "    'verbosity': 0\n",
        "}\n",
        "\n",
        "models = [\n",
        "    ('cat', CatBoostRegressor(**cat_params)),\n",
        "    ('lgbm', LGBMRegressor(**lgbm_params)),\n",
        "    ('xgb', XGBRegressor(**xgb_params))\n",
        "]"
      ],
      "metadata": {
        "id": "tL2cPYMEqKv3"
      },
      "execution_count": 34,
      "outputs": []
    },
    {
      "cell_type": "code",
      "source": [
        "# Step 7: 5-Fold Cross Validation + Ensemble\n",
        "NFOLDS = 5\n",
        "kf = KFold(n_splits=NFOLDS, shuffle=True, random_state=42)\n",
        "\n",
        "oof_preds = np.zeros((len(X), len(models)))\n",
        "test_preds = np.zeros((len(X_test), len(models)))\n",
        "\n",
        "for fold, (train_idx, val_idx) in enumerate(kf.split(X)):\n",
        "    print(f\"\\nFold {fold+1}\")\n",
        "    X_trn, X_val = X.iloc[train_idx], X.iloc[val_idx]\n",
        "    y_trn, y_val = y[train_idx], y[val_idx]\n",
        "\n",
        "    for i, (name, model) in enumerate(models):\n",
        "        print(f\"Training {name}...\")\n",
        "        model.fit(X_trn, y_trn)\n",
        "\n",
        "        # OOF Predictions\n",
        "        oof_preds[val_idx, i] = np.expm1(model.predict(X_val))\n",
        "\n",
        "        # Test Predictions\n",
        "        test_preds[:, i] += np.expm1(model.predict(X_test)) / NFOLDS"
      ],
      "metadata": {
        "colab": {
          "base_uri": "https://localhost:8080/"
        },
        "id": "0PDY76i8qNLU",
        "outputId": "9e773322-12c2-4af1-b9e9-9e73572addd6"
      },
      "execution_count": 35,
      "outputs": [
        {
          "output_type": "stream",
          "name": "stdout",
          "text": [
            "\n",
            "Fold 1\n",
            "Training cat...\n",
            "Training lgbm...\n",
            "[LightGBM] [Info] Auto-choosing col-wise multi-threading, the overhead of testing was 0.094125 seconds.\n",
            "You can set `force_col_wise=true` to remove the overhead.\n",
            "[LightGBM] [Info] Total Bins 1427\n",
            "[LightGBM] [Info] Number of data points in the train set: 600000, number of used features: 13\n",
            "[LightGBM] [Info] Start training from score 4.141163\n",
            "[LightGBM] [Warning] No further splits with positive gain, best gain: -inf\n",
            "[LightGBM] [Warning] No further splits with positive gain, best gain: -inf\n",
            "[LightGBM] [Warning] No further splits with positive gain, best gain: -inf\n",
            "[LightGBM] [Warning] No further splits with positive gain, best gain: -inf\n",
            "Training xgb...\n",
            "\n",
            "Fold 2\n",
            "Training cat...\n",
            "Training lgbm...\n",
            "[LightGBM] [Info] Auto-choosing col-wise multi-threading, the overhead of testing was 0.094974 seconds.\n",
            "You can set `force_col_wise=true` to remove the overhead.\n",
            "[LightGBM] [Info] Total Bins 1432\n",
            "[LightGBM] [Info] Number of data points in the train set: 600000, number of used features: 13\n",
            "[LightGBM] [Info] Start training from score 4.141466\n",
            "[LightGBM] [Warning] No further splits with positive gain, best gain: -inf\n",
            "[LightGBM] [Warning] No further splits with positive gain, best gain: -inf\n",
            "[LightGBM] [Warning] No further splits with positive gain, best gain: -inf\n",
            "[LightGBM] [Warning] No further splits with positive gain, best gain: -inf\n",
            "[LightGBM] [Warning] No further splits with positive gain, best gain: -inf\n",
            "[LightGBM] [Warning] No further splits with positive gain, best gain: -inf\n",
            "[LightGBM] [Warning] No further splits with positive gain, best gain: -inf\n",
            "[LightGBM] [Warning] No further splits with positive gain, best gain: -inf\n",
            "[LightGBM] [Warning] No further splits with positive gain, best gain: -inf\n",
            "Training xgb...\n",
            "\n",
            "Fold 3\n",
            "Training cat...\n",
            "Training lgbm...\n",
            "[LightGBM] [Info] Auto-choosing col-wise multi-threading, the overhead of testing was 0.093478 seconds.\n",
            "You can set `force_col_wise=true` to remove the overhead.\n",
            "[LightGBM] [Info] Total Bins 1428\n",
            "[LightGBM] [Info] Number of data points in the train set: 600000, number of used features: 13\n",
            "[LightGBM] [Info] Start training from score 4.140724\n",
            "[LightGBM] [Warning] No further splits with positive gain, best gain: -inf\n",
            "[LightGBM] [Warning] No further splits with positive gain, best gain: -inf\n",
            "[LightGBM] [Warning] No further splits with positive gain, best gain: -inf\n",
            "[LightGBM] [Warning] No further splits with positive gain, best gain: -inf\n",
            "[LightGBM] [Warning] No further splits with positive gain, best gain: -inf\n",
            "[LightGBM] [Warning] No further splits with positive gain, best gain: -inf\n",
            "[LightGBM] [Warning] No further splits with positive gain, best gain: -inf\n",
            "[LightGBM] [Warning] No further splits with positive gain, best gain: -inf\n",
            "[LightGBM] [Warning] No further splits with positive gain, best gain: -inf\n",
            "[LightGBM] [Warning] No further splits with positive gain, best gain: -inf\n",
            "[LightGBM] [Warning] No further splits with positive gain, best gain: -inf\n",
            "Training xgb...\n",
            "\n",
            "Fold 4\n",
            "Training cat...\n",
            "Training lgbm...\n",
            "[LightGBM] [Info] Auto-choosing col-wise multi-threading, the overhead of testing was 0.151044 seconds.\n",
            "You can set `force_col_wise=true` to remove the overhead.\n",
            "[LightGBM] [Info] Total Bins 1429\n",
            "[LightGBM] [Info] Number of data points in the train set: 600000, number of used features: 13\n",
            "[LightGBM] [Info] Start training from score 4.140493\n",
            "[LightGBM] [Warning] No further splits with positive gain, best gain: -inf\n",
            "Training xgb...\n",
            "\n",
            "Fold 5\n",
            "Training cat...\n",
            "Training lgbm...\n",
            "[LightGBM] [Info] Auto-choosing col-wise multi-threading, the overhead of testing was 0.162108 seconds.\n",
            "You can set `force_col_wise=true` to remove the overhead.\n",
            "[LightGBM] [Info] Total Bins 1426\n",
            "[LightGBM] [Info] Number of data points in the train set: 600000, number of used features: 13\n",
            "[LightGBM] [Info] Start training from score 4.141876\n",
            "[LightGBM] [Warning] No further splits with positive gain, best gain: -inf\n",
            "[LightGBM] [Warning] No further splits with positive gain, best gain: -inf\n",
            "[LightGBM] [Warning] No further splits with positive gain, best gain: -inf\n",
            "Training xgb...\n"
          ]
        }
      ]
    },
    {
      "cell_type": "code",
      "source": [
        "# Step 8: Evaluate individual model performance on OOF\n",
        "actual = train[target].values\n",
        "\n",
        "for i, (name, _) in enumerate(models):\n",
        "    score = rmsle(actual, oof_preds[:, i])\n",
        "    print(f\"{name.upper()} OOF RMSLE: {score:.5f}\")"
      ],
      "metadata": {
        "colab": {
          "base_uri": "https://localhost:8080/"
        },
        "id": "Nb_4wr5CqO2H",
        "outputId": "68cf4e79-8ed6-4e08-d4fb-380d1d85eee8"
      },
      "execution_count": 36,
      "outputs": [
        {
          "output_type": "stream",
          "name": "stdout",
          "text": [
            "CAT OOF RMSLE: 0.06081\n",
            "LGBM OOF RMSLE: 0.06043\n",
            "XGB OOF RMSLE: 0.06039\n"
          ]
        }
      ]
    },
    {
      "cell_type": "code",
      "source": [
        "# Step 9: Ensemble all models (simple average)\n",
        "ensemble_oof = oof_preds.mean(axis=1)\n",
        "ensemble_test = test_preds.mean(axis=1)\n",
        "\n",
        "# Final Evaluation\n",
        "final_score = rmsle(actual, ensemble_oof)\n",
        "print(f\"\\nEnsemble OOF RMSLE: {final_score:.5f}\")"
      ],
      "metadata": {
        "colab": {
          "base_uri": "https://localhost:8080/"
        },
        "id": "V2qfnoJvqQNU",
        "outputId": "c3ab4681-909a-4764-b576-6120def2a769"
      },
      "execution_count": 37,
      "outputs": [
        {
          "output_type": "stream",
          "name": "stdout",
          "text": [
            "\n",
            "Ensemble OOF RMSLE: 0.05987\n"
          ]
        }
      ]
    },
    {
      "cell_type": "code",
      "source": [
        "# Step 10: Generate Submission\n",
        "submission = pd.DataFrame({\n",
        "    'id': test['id'],\n",
        "    'Calories': np.clip(ensemble_test, 0.1, None)\n",
        "})\n",
        "\n",
        "submission.to_csv(\"submission_optimized.csv\", index=False)\n",
        "print(\"\\n✅ Optimized submission file created.\")\n",
        "\n",
        "# Optional: Download\n",
        "from google.colab import files\n",
        "files.download(\"submission_optimized.csv\")"
      ],
      "metadata": {
        "colab": {
          "base_uri": "https://localhost:8080/",
          "height": 53
        },
        "id": "if1pZH1OqRlA",
        "outputId": "3f8b5f9b-d212-4040-bbb2-e6f7947ae6f7"
      },
      "execution_count": 38,
      "outputs": [
        {
          "output_type": "stream",
          "name": "stdout",
          "text": [
            "\n",
            "✅ Optimized submission file created.\n"
          ]
        },
        {
          "output_type": "display_data",
          "data": {
            "text/plain": [
              "<IPython.core.display.Javascript object>"
            ],
            "application/javascript": [
              "\n",
              "    async function download(id, filename, size) {\n",
              "      if (!google.colab.kernel.accessAllowed) {\n",
              "        return;\n",
              "      }\n",
              "      const div = document.createElement('div');\n",
              "      const label = document.createElement('label');\n",
              "      label.textContent = `Downloading \"${filename}\": `;\n",
              "      div.appendChild(label);\n",
              "      const progress = document.createElement('progress');\n",
              "      progress.max = size;\n",
              "      div.appendChild(progress);\n",
              "      document.body.appendChild(div);\n",
              "\n",
              "      const buffers = [];\n",
              "      let downloaded = 0;\n",
              "\n",
              "      const channel = await google.colab.kernel.comms.open(id);\n",
              "      // Send a message to notify the kernel that we're ready.\n",
              "      channel.send({})\n",
              "\n",
              "      for await (const message of channel.messages) {\n",
              "        // Send a message to notify the kernel that we're ready.\n",
              "        channel.send({})\n",
              "        if (message.buffers) {\n",
              "          for (const buffer of message.buffers) {\n",
              "            buffers.push(buffer);\n",
              "            downloaded += buffer.byteLength;\n",
              "            progress.value = downloaded;\n",
              "          }\n",
              "        }\n",
              "      }\n",
              "      const blob = new Blob(buffers, {type: 'application/binary'});\n",
              "      const a = document.createElement('a');\n",
              "      a.href = window.URL.createObjectURL(blob);\n",
              "      a.download = filename;\n",
              "      div.appendChild(a);\n",
              "      a.click();\n",
              "      div.remove();\n",
              "    }\n",
              "  "
            ]
          },
          "metadata": {}
        },
        {
          "output_type": "display_data",
          "data": {
            "text/plain": [
              "<IPython.core.display.Javascript object>"
            ],
            "application/javascript": [
              "download(\"download_7669db59-14ba-4042-9b8a-ce68ff15eb67\", \"submission_optimized.csv\", 6354533)"
            ]
          },
          "metadata": {}
        }
      ]
    },
    {
      "cell_type": "markdown",
      "source": [
        "SUBMISSION - 4"
      ],
      "metadata": {
        "id": "baIffUZYvh9z"
      }
    },
    {
      "cell_type": "code",
      "source": [
        "# Step 1: Install TensorFlow\n",
        "!pip install tensorflow --quiet"
      ],
      "metadata": {
        "id": "sGcyPDf9vjSp"
      },
      "execution_count": 45,
      "outputs": []
    },
    {
      "cell_type": "code",
      "source": [
        "# Step 2: Import libraries\n",
        "import pandas as pd\n",
        "import numpy as np\n",
        "from sklearn.model_selection import train_test_split\n",
        "from sklearn.preprocessing import StandardScaler\n",
        "import tensorflow as tf\n",
        "from tensorflow.keras import layers, models, callbacks\n",
        "from sklearn.metrics import mean_squared_log_error\n",
        "from math import sqrt"
      ],
      "metadata": {
        "id": "T6u7ZLH_vlh1"
      },
      "execution_count": 46,
      "outputs": []
    },
    {
      "cell_type": "code",
      "source": [
        "\n",
        "train = pd.read_csv(\"/content/drive/MyDrive/train.csv\")\n",
        "test = pd.read_csv(\"/content/drive/MyDrive/test.csv\")"
      ],
      "metadata": {
        "id": "f7aI-bOpvpQQ"
      },
      "execution_count": 47,
      "outputs": []
    },
    {
      "cell_type": "code",
      "source": [
        "# Step 4: Feature Engineering\n",
        "def preprocess(df):\n",
        "    df['Sex'] = df['Sex'].map({'male': 0, 'female': 1})\n",
        "    df['BMI'] = df['Weight'] / ((df['Height'] / 100) ** 2)\n",
        "    df['MassTime'] = df['Weight'] * df['Duration']\n",
        "    df['HRxDur'] = df['Heart_Rate'] * df['Duration']\n",
        "    df['TempDiff'] = df['Body_Temp'] - 37\n",
        "    return df\n",
        "\n",
        "train = preprocess(train)\n",
        "test = preprocess(test)\n",
        "\n",
        "features = ['Sex', 'Age', 'Height', 'Weight', 'Duration', 'Heart_Rate', 'Body_Temp',\n",
        "            'BMI', 'MassTime', 'HRxDur', 'TempDiff']\n",
        "target = 'Calories'\n",
        "\n",
        "X = train[features].values\n",
        "y = train[target].values\n",
        "X_test = test[features].values"
      ],
      "metadata": {
        "id": "1oa9U9eSvrCY"
      },
      "execution_count": 56,
      "outputs": []
    },
    {
      "cell_type": "code",
      "source": [
        "# Step 5: Scale data\n",
        "scaler = StandardScaler()\n",
        "X_scaled = scaler.fit_transform(X)\n",
        "X_test_scaled = scaler.transform(X_test)"
      ],
      "metadata": {
        "id": "yyVOS5xTvupZ"
      },
      "execution_count": 57,
      "outputs": []
    },
    {
      "cell_type": "code",
      "source": [
        "# Step 6: Split for validation\n",
        "X_train, X_val, y_train, y_val = train_test_split(X_scaled, y, test_size=0.2, random_state=42)"
      ],
      "metadata": {
        "id": "Xz3fvUTNvxkW"
      },
      "execution_count": 58,
      "outputs": []
    },
    {
      "cell_type": "code",
      "source": [
        "def rmsle(y_true, y_pred):\n",
        "    # Use a large number instead of None for the upper clip bound\n",
        "    first_log = tf.math.log(tf.clip_by_value(y_true + 1.0, 1e-8, 1e9)) # Use 1.0 to ensure float operation\n",
        "    second_log = tf.math.log(tf.clip_by_value(y_pred + 1.0, 1e-8, 1e9)) # Use 1.0 to ensure float operation\n",
        "    return tf.sqrt(tf.reduce_mean(tf.square(first_log - second_log)))"
      ],
      "metadata": {
        "id": "hx2J1_fwvzL4"
      },
      "execution_count": 62,
      "outputs": []
    },
    {
      "cell_type": "code",
      "source": [
        "model = models.Sequential([\n",
        "    layers.Dense(128, activation='relu', kernel_regularizer='l2'),\n",
        "    layers.Dropout(0.3),\n",
        "    layers.Dense(64, activation='relu'),\n",
        "    layers.Dense(1)\n",
        "])\n",
        "\n",
        "# Use RMSProp or Adam with a good learning rate\n",
        "optimizer = tf.keras.optimizers.Adam(learning_rate=1e-3)\n",
        "model.compile(optimizer=optimizer, loss=rmsle)"
      ],
      "metadata": {
        "id": "cZt02DaJv17M"
      },
      "execution_count": 63,
      "outputs": []
    },
    {
      "cell_type": "code",
      "source": [
        "# Step 9: Train the model\n",
        "early_stop = callbacks.EarlyStopping(patience=20, restore_best_weights=True)\n",
        "\n",
        "history = model.fit(\n",
        "    X_train,\n",
        "    y_train,\n",
        "    validation_data=(X_val, y_val),\n",
        "    epochs=200,\n",
        "    batch_size=32,\n",
        "    callbacks=[early_stop],\n",
        "    verbose=0\n",
        ")\n",
        "\n",
        "print(\"Model trained.\")"
      ],
      "metadata": {
        "colab": {
          "base_uri": "https://localhost:8080/"
        },
        "id": "0uXGQptRv3bu",
        "outputId": "802bc422-0efe-4490-9f37-ba122983be73"
      },
      "execution_count": 64,
      "outputs": [
        {
          "output_type": "stream",
          "name": "stdout",
          "text": [
            "Model trained.\n"
          ]
        }
      ]
    },
    {
      "cell_type": "code",
      "source": [
        "# Step 10: Evaluate on Validation Set\n",
        "val_preds = model.predict(X_val).flatten()\n"
      ],
      "metadata": {
        "colab": {
          "base_uri": "https://localhost:8080/"
        },
        "id": "_sRlVIRm-LdU",
        "outputId": "4f61c265-56da-48af-c063-357373e2cbf6"
      },
      "execution_count": 66,
      "outputs": [
        {
          "output_type": "stream",
          "name": "stdout",
          "text": [
            "\u001b[1m4688/4688\u001b[0m \u001b[32m━━━━━━━━━━━━━━━━━━━━\u001b[0m\u001b[37m\u001b[0m \u001b[1m10s\u001b[0m 2ms/step\n"
          ]
        }
      ]
    },
    {
      "cell_type": "code",
      "source": [
        "# Step 11: Predict and Submit\n",
        "test_preds = model.predict(X_test_scaled).flatten()\n",
        "\n",
        "submission = pd.DataFrame({\n",
        "    'id': test['id'],\n",
        "    'Calories': np.clip(test_preds, 0.1, None)\n",
        "})\n",
        "\n",
        "submission.to_csv(\"submission_mlp_rmsle.csv\", index=False)\n",
        "print(\"\\n✅ Submission file created.\")\n",
        "\n",
        "from google.colab import files\n",
        "files.download(\"submission_mlp_rmsle.csv\")"
      ],
      "metadata": {
        "colab": {
          "base_uri": "https://localhost:8080/",
          "height": 71
        },
        "id": "h9cY0jzw-qI-",
        "outputId": "c8a8e76d-f4bf-4340-d15a-61d33bebcb97"
      },
      "execution_count": 67,
      "outputs": [
        {
          "output_type": "stream",
          "name": "stdout",
          "text": [
            "\u001b[1m7813/7813\u001b[0m \u001b[32m━━━━━━━━━━━━━━━━━━━━\u001b[0m\u001b[37m\u001b[0m \u001b[1m15s\u001b[0m 2ms/step\n",
            "\n",
            "✅ Submission file created.\n"
          ]
        },
        {
          "output_type": "display_data",
          "data": {
            "text/plain": [
              "<IPython.core.display.Javascript object>"
            ],
            "application/javascript": [
              "\n",
              "    async function download(id, filename, size) {\n",
              "      if (!google.colab.kernel.accessAllowed) {\n",
              "        return;\n",
              "      }\n",
              "      const div = document.createElement('div');\n",
              "      const label = document.createElement('label');\n",
              "      label.textContent = `Downloading \"${filename}\": `;\n",
              "      div.appendChild(label);\n",
              "      const progress = document.createElement('progress');\n",
              "      progress.max = size;\n",
              "      div.appendChild(progress);\n",
              "      document.body.appendChild(div);\n",
              "\n",
              "      const buffers = [];\n",
              "      let downloaded = 0;\n",
              "\n",
              "      const channel = await google.colab.kernel.comms.open(id);\n",
              "      // Send a message to notify the kernel that we're ready.\n",
              "      channel.send({})\n",
              "\n",
              "      for await (const message of channel.messages) {\n",
              "        // Send a message to notify the kernel that we're ready.\n",
              "        channel.send({})\n",
              "        if (message.buffers) {\n",
              "          for (const buffer of message.buffers) {\n",
              "            buffers.push(buffer);\n",
              "            downloaded += buffer.byteLength;\n",
              "            progress.value = downloaded;\n",
              "          }\n",
              "        }\n",
              "      }\n",
              "      const blob = new Blob(buffers, {type: 'application/binary'});\n",
              "      const a = document.createElement('a');\n",
              "      a.href = window.URL.createObjectURL(blob);\n",
              "      a.download = filename;\n",
              "      div.appendChild(a);\n",
              "      a.click();\n",
              "      div.remove();\n",
              "    }\n",
              "  "
            ]
          },
          "metadata": {}
        },
        {
          "output_type": "display_data",
          "data": {
            "text/plain": [
              "<IPython.core.display.Javascript object>"
            ],
            "application/javascript": [
              "download(\"download_690622d8-f168-42d5-a6a6-6bd9766073a6\", \"submission_mlp_rmsle.csv\", 2000012)"
            ]
          },
          "metadata": {}
        }
      ]
    }
  ]
}